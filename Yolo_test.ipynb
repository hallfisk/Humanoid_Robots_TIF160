{
 "cells": [
  {
   "cell_type": "code",
   "execution_count": 1,
   "id": "b754e4f3-1645-4d62-8d53-d636524ae941",
   "metadata": {},
   "outputs": [],
   "source": [
    "import cv2\n",
    "from matplotlib import pyplot as plt\n",
    "from ultralytics import YOLO\n",
    "import os"
   ]
  },
  {
   "cell_type": "markdown",
   "id": "77764d68-47ee-40cb-ab1a-7e81e6878da6",
   "metadata": {},
   "source": [
    "## Yolo model "
   ]
  },
  {
   "cell_type": "code",
   "execution_count": null,
   "id": "8a637150-5d5d-495d-8ac1-6a4c85c5f064",
   "metadata": {},
   "outputs": [],
   "source": [
    "import cv2\n",
    "from ultralytics import YOLO\n",
    "import os\n",
    "\n",
    "# Load the pre-trained YOLOv8 model\n",
    "model = YOLO('yolov8l.pt')  # Load YOLOv8 large model\n",
    "model.to('cpu')  # Ensure the model is running on the CPU\n",
    "\n",
    "# Function to detect objects in an image\n",
    "def detect_objects(image_path):\n",
    "    # Check if the image file exists\n",
    "    if not os.path.isfile(image_path):\n",
    "        print(f\"Error: The file '{image_path}' does not exist.\")\n",
    "        return None\n",
    "\n",
    "    # Load the image\n",
    "    img = cv2.imread(image_path)\n",
    "\n",
    "    # Check if the image was loaded correctly\n",
    "    if img is None:\n",
    "        print(f\"Error: Failed to load the image from '{image_path}'.\")\n",
    "        return None\n",
    "    \n",
    "    # Resize the image\n",
    "    img_resized = img #cv2.resize(img, (1280, 1280))\n",
    "\n",
    "    # Use the model to detect objects\n",
    "    results = model(img_resized)  # Pass the image to the YOLO model\n",
    "    #print(results[0])  # Print the results\n",
    "    results[0].save()  # Save the detection results\n",
    "    return results\n",
    "\n",
    "# Example usage\n",
    "results = detect_objects('a.jpg')  # Replace with the path to your image\n"
   ]
  },
  {
   "cell_type": "markdown",
   "id": "0a6deb47-c290-4b4b-bd11-fb55575fa7df",
   "metadata": {},
   "source": [
    "## Same thing but finds apple and gives pixelated coordinate"
   ]
  },
  {
   "cell_type": "code",
   "execution_count": 2,
   "id": "263b0638-1c61-40a2-aaea-70fee5b16bd3",
   "metadata": {},
   "outputs": [
    {
     "name": "stdout",
     "output_type": "stream",
     "text": [
      "\n",
      "0: 640x640 1 banana, 1 apple, 2 oranges, 5785.4ms\n",
      "Speed: 18.6ms preprocess, 5785.4ms inference, 52.8ms postprocess per image at shape (1, 3, 640, 640)\n",
      "Apple detected at position: (838, 314)\n",
      "Image with red dot saved as: detected_apple_with_position.jpg\n",
      "Apple detected. Robot can proceed to pick it up.\n"
     ]
    }
   ],
   "source": [
    "import cv2\n",
    "from ultralytics import YOLO\n",
    "import os\n",
    "\n",
    "\n",
    "model = YOLO('yolov8l.pt')  # Load YOLOv8 large model\n",
    "model.to('cpu')  \n",
    "\n",
    "\n",
    "def detect_apple_and_save_image(image_path, output_path='output_image.jpg'):\n",
    "    # Check if the file exists\n",
    "    if not os.path.isfile(image_path):\n",
    "        print(f\"Error: The file '{image_path}' does not exist.\")\n",
    "        return None\n",
    "\n",
    "    # Load the image\n",
    "    img = cv2.imread(image_path)\n",
    "\n",
    "    # Check if the image was loaded correctly\n",
    "    if img is None:\n",
    "        print(f\"Error: Failed to load the image from '{image_path}'.\")\n",
    "        return None\n",
    "\n",
    "    # Resize the image for YOLO detection (optional)\n",
    "    img_resized = img #cv2.resize(img, (1280, 1280))\n",
    "\n",
    "    # Use the YOLO model to detect objects\n",
    "    results = model(img_resized)\n",
    "\n",
    "    # Get class names\n",
    "    class_names = model.names\n",
    "    \n",
    "    apple_class_id = 47  # 'apple' class in YOLO (from the COCO dataset)\n",
    "    apple_found = False\n",
    "    apple_position = None\n",
    "\n",
    "    # Loop over detections and check if an apple is detected\n",
    "    for detection in results[0].boxes:\n",
    "        class_id = int(detection.cls)  # Class ID of the detected object\n",
    "        if class_id == apple_class_id:  # Check if it is an apple\n",
    "            apple_found = True\n",
    "\n",
    "            # Get bounding box coordinates\n",
    "            xmin, ymin, xmax, ymax = map(int, detection.xyxy[0])\n",
    "            # Calculate the center of the apple's bounding box\n",
    "            x_center = (xmin + xmax) // 2\n",
    "            y_center = (ymin + ymax) // 2\n",
    "\n",
    "            # Store the position of the apple\n",
    "            apple_position = (x_center, y_center)\n",
    "\n",
    "            # Draw a red dot at the center of the apple's bounding box\n",
    "            cv2.circle(img_resized, (x_center, y_center), 20, (0, 0, 255), -1)  # Red dot\n",
    "            \n",
    "            break  # We found the apple, no need to check further\n",
    "\n",
    "    # Save the detection image\n",
    "    results[0].save()  # YOLO saves the image with bounding boxes\n",
    "   \n",
    "    if apple_found:\n",
    "        cv2.imwrite(output_path, img_resized)\n",
    "        print(f\"Apple detected at position: {apple_position}\")\n",
    "        print(f\"Image with red dot saved as: {output_path}\")\n",
    "        return apple_position\n",
    "    else:\n",
    "        print(\"No apple detected in the image.\")\n",
    "        return None\n",
    "\n",
    "# Example usage\n",
    "image_path = 'leksak.jpg'  # Replace with image path\n",
    "output_image = 'detected_apple_with_position.jpg'  # Path to save the image with a red dot\n",
    "apple_position = detect_apple_and_save_image(image_path, output_image)\n",
    "\n",
    "\n",
    "if apple_position:\n",
    "    print(\"Apple detected. Robot can proceed to pick it up.\")\n",
    "else:\n",
    "    print(\"No apple detected. Robot should not proceed.\")\n"
   ]
  }
 ],
 "metadata": {
  "kernelspec": {
   "display_name": "Python 3 (ipykernel)",
   "language": "python",
   "name": "python3"
  },
  "language_info": {
   "codemirror_mode": {
    "name": "ipython",
    "version": 3
   },
   "file_extension": ".py",
   "mimetype": "text/x-python",
   "name": "python",
   "nbconvert_exporter": "python",
   "pygments_lexer": "ipython3",
   "version": "3.11.7"
  }
 },
 "nbformat": 4,
 "nbformat_minor": 5
}
